{
  "nbformat": 4,
  "nbformat_minor": 0,
  "metadata": {
    "colab": {
      "provenance": [],
      "collapsed_sections": [],
      "toc_visible": true,
      "mount_file_id": "1MX6NGeF0Sl03QKeX5Wf-BpW07AFQa8eX",
      "authorship_tag": "ABX9TyMlNkAEM+W74f9puV/gIjKW",
      "include_colab_link": true
    },
    "kernelspec": {
      "name": "python3",
      "display_name": "Python 3"
    },
    "language_info": {
      "name": "python"
    }
  },
  "cells": [
    {
      "cell_type": "markdown",
      "metadata": {
        "id": "view-in-github",
        "colab_type": "text"
      },
      "source": [
        "<a href=\"https://colab.research.google.com/github/abel030/study/blob/main/9%EB%B2%88_%ED%94%84%EB%A1%9C%EC%A0%9D%ED%8A%B8%EC%9D%98_%EC%82%AC%EB%B3%B8.ipynb\" target=\"_parent\"><img src=\"https://colab.research.google.com/assets/colab-badge.svg\" alt=\"Open In Colab\"/></a>"
      ]
    },
    {
      "cell_type": "code",
      "source": [
        "import pandas as pd\n",
        "import folium # 지도를 시각화 하는 라이브러리\n",
        "\n",
        "filePath = r'/content/drive/MyDrive/Colab Notebooks/학교주소좌표.xlsx' # 엑셀 파일 불러오기\n",
        "df_from_excel = pd.read_excel(filePath,engine='openpyxl',header=None) # 판다스로 엑셀을 읽어오기\n",
        "\n",
        "df_from_excel.columns = ['학교이름','주소','x','y'] # 학교이름, 주소, X, Y를   컬럼으로 정합니다.\n",
        "\n",
        "name_list = df_from_excel['학교이름'].to_list() # 학교 이름을 name_list로 넣기.\n",
        "addr_list = df_from_excel['주소'].to_list()     # 주소를 addr_list에 넣기.\n",
        "position_x_list = df_from_excel['x'].to_list() # x를 position_x에 넣기.\n",
        "position_y_list = df_from_excel['y'].to_list() # y를 position_y_list에 넣기.\n",
        "\n",
        "map = folium.Map(location=[37,127],zoom_start=7) # 기본 지도 시각화 위치는 위도 37,경도 127 돋보기 레벨은 7로 시작\n",
        "\n",
        "for i in range(len(name_list)): # 학교 이름이 들어간 리스트의 길이만큼 반복한다.\n",
        "    if position_x_list[i] != 0: #  x 값이 0이 아닐때 참인 조건\n",
        "        marker = folium.Marker([position_y_list[i],position_x_list[i]], # 표시값 안에 각각 위도와 경도 걊을 넣는다.\n",
        "                            popup=name_list[i],                   #이름 리스트를 넣는다.\n",
        "                            icon = folium.Icon(color='blue'))     # 표시하는 그 아이콘 색깔은 파란색\n",
        "        marker.add_to(map)                                        # 맵에 표시 추가\n",
        "\n",
        "map.save(r'/content/drive/MyDrive/Colab Notebooks/uni_map.html') # uni_map.html으로 맵 저장\n",
        "\n"
      ],
      "metadata": {
        "id": "bX_Pbe01ouqg"
      },
      "execution_count": 8,
      "outputs": []
    },
    {
      "cell_type": "markdown",
      "source": [],
      "metadata": {
        "id": "iWtyluztj-H4"
      }
    },
    {
      "cell_type": "code",
      "source": [],
      "metadata": {
        "id": "bgWGULP5j6QC"
      },
      "execution_count": null,
      "outputs": []
    },
    {
      "cell_type": "code",
      "execution_count": null,
      "metadata": {
        "id": "hHTwpHr4of39"
      },
      "outputs": [],
      "source": []
    },
    {
      "cell_type": "code",
      "source": [],
      "metadata": {
        "id": "mmC8Zfveo7g4"
      },
      "execution_count": null,
      "outputs": []
    },
    {
      "cell_type": "code",
      "source": [],
      "metadata": {
        "id": "6l1Rm9LPpFbh"
      },
      "execution_count": null,
      "outputs": []
    },
    {
      "cell_type": "code",
      "source": [],
      "metadata": {
        "id": "Aw1HNcfMqZAA"
      },
      "execution_count": null,
      "outputs": []
    }
  ]
}
